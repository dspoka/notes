{
 "cells": [
  {
   "cell_type": "markdown",
   "metadata": {},
   "source": [
    "- x86 is not clea\n",
    "- Mips is clean\n",
    "- \"it is a simulator it must be broken\" is wrong mindset, treat it like hardware\n",
    "- Write Test Scripts\n",
    "- Go Through the notes on C and compilation\n",
    "- Get the book perhaps?\n",
    "- Cookbook for 2 3\n",
    "$$\\text{asfasdklfj sldkfj asdflj }$$\n",
    "- aklsdjfa"
   ]
  },
  {
   "cell_type": "markdown",
   "metadata": {
    "collapsed": true
   },
   "source": [
    "Concurrency is not parallelism(for the purpose of speed), concurrency is for functionality reasons. \n",
    "\n",
    "threads are an os abstraction: java uses ptreads\n",
    "thread: program counter, each thread has its own stack(local variables live there), one global collection of global variables \n",
    "2:14\n",
    "2:18\n",
    "async vs sync\n",
    "*null\n",
    "malloc is void star\n",
    "floating equal integer\n",
    "4 = 4.0 representation will be different\n",
    "coercesion int -> floating\n",
    "dealing with pointers you use casts not coercions\n",
    "\n",
    "determine seq. srand(unsigned int);. convetion: of 0. make it into the clock?\n",
    "to divide double by int its a coercion\n",
    "threads can only start at function boundary in C\n",
    "\n",
    "void * is a pointer to anything\n",
    "\n",
    "packaging the arguments is called martialling  / unpmartially\n",
    "fflush insure that a print statement is set as immediately as possible, yes use fflush\n",
    "context switch is a switch between threads\n",
    "\n",
    "there is a disadvanteage of using one thread because of 140.      \n",
    "\n",
    "what are the repercussions of not fflushing?\n",
    "out_paramater is threadId\n",
    "NULL = Default scheduling\n",
    "pthread_create(out parameter thread id, schedule, function, argument)\n",
    "you wait to join the threads\n",
    "throw asserts in code\n",
    "\n",
    "syncronishation : joining all threads together\n",
    "\n"
   ]
  },
  {
   "cell_type": "code",
   "execution_count": null,
   "metadata": {
    "collapsed": true
   },
   "outputs": [],
   "source": []
  }
 ],
 "metadata": {
  "kernelspec": {
   "display_name": "Python 2",
   "language": "python",
   "name": "python2"
  },
  "language_info": {
   "codemirror_mode": {
    "name": "ipython",
    "version": 2
   },
   "file_extension": ".py",
   "mimetype": "text/x-python",
   "name": "python",
   "nbconvert_exporter": "python",
   "pygments_lexer": "ipython2",
   "version": "2.7.8"
  }
 },
 "nbformat": 4,
 "nbformat_minor": 0
}
