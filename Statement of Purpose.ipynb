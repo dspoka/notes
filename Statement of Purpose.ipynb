{
 "cells": [
  {
   "cell_type": "markdown",
   "metadata": {},
   "source": [
    "Moderator: How far are we away from human intelligence? Just take a gamble.\n",
    "\t\t\t\t\t\t\n",
    "Peter Norvig: Well, first of all, I object to that, because I think that’s a low target to aim at. [Audience laughs.] Right, ’cause certainly there’s lots of things already that computers are much, much better than people at. [. . . ] We want to be able to say, “What is it that humans can’t do that computers can do better?” Now, part of that may be that the computers want to have some basic competency at the human-level in order to interact with us better. But the goal shouldn’t be human-level performance. The goal should be super-human partnership. [http://www.kqed.org/a/radiospecials/R201111302000] \n"
   ]
  },
  {
   "cell_type": "markdown",
   "metadata": {},
   "source": [
    "When asked about how far we are from human intelligence Peter Norvig's responded, saying it's a low target to aim at, \"But the goal shouldn’t be human-level performance. The goal should be super-human partnership\". "
   ]
  },
  {
   "cell_type": "markdown",
   "metadata": {},
   "source": [
    "Imitate human intelligence => imitate a child\n",
    "    - Moscoso\n",
    "    - Stevenson\n",
    "- The next 20 years of research in [NLP/AI/ML/this field]\n",
    "- I want to participiate to drive the revolution.\n"
   ]
  },
  {
   "cell_type": "markdown",
   "metadata": {},
   "source": [
    "### write for johns hopkins projects: 1 and 2\n",
    "- The two projects that I believe I would be most suited for is Dr. Yaroksky's Translating 500 and the Deep LEarning Semantics. \n",
    "\n",
    "    - While interning at OpenGov, I was able to attend a talk by Robert Munro, PhD Stanford University, on combining human and machine intelligence. In it he stated that English was only 5% of all human communication and yet 90-95% of research is focused on it.\n",
    "        - I strongly believe that research into better NLP tools for languages of 3rd world countries is a crucial step into helping them develop better education, blabh blah...\n",
    "        \n",
    "### Custom Paragraphs for Berkeley.. Sustainability? call tifanny\n",
    "- Trevor Darrel / reinforcement learning -> call tifanny to ask about projects"
   ]
  },
  {
   "cell_type": "markdown",
   "metadata": {},
   "source": [
    "machine translation will lead to a generation of kids not familiar with the phrase,  “language barrier”."
   ]
  },
  {
   "cell_type": "markdown",
   "metadata": {},
   "source": [
    "- ccs => chemists=> to learning how to learn, placing myself in the room where i am the dumbest\n",
    "- attended NIPS 2015, NAACL 2015\n",
    "- Doing Linguistic Research with Moscoso\n",
    "    - started doing independent studies learning Jurafskys book\n",
    "    - \n",
    "- Doing Research w/ prof stevenson + Barend\n",
    "    - \n",
    "- Co-Teaching Class\n",
    "    - A perk of CCS allows undergraduate students to lead a faculty-approved colloquium. Along with my best friend we designed a course on Natural Language Processing, Machine Learning, and Deep Learning. \n",
    "    - We managed to get over 20 students ranging from ccs computer science freshman to really advanced ccs math, physics, and bio seniors... We are currently half way through our class and have found it to be an extremeley rewarding experience... The assignments we devised for class... to get people familiarized with approaching research... \n",
    "- OpenGov\n",
    "    - Additionally I was extremely lucky to intern at OpenGov, a then 60-person startup in the Bay Area. As part of the data science team I introduced an algorithm to the core nlp engine that builds an ontology from a flat structure by inferring from existing ontologies. The task at hand was to use 100's of ontologies to be able to...\n",
    "    - This contribution will allow for 10x speedup when setting up a new customer and will be released in a new product beginning of next year. My contribution laid the groundwork for automating new customer on boarding...\n",
    "    - \n",
    "- Classes/Online Taken: Deep Learning for NLP\n",
    "\n",
    "- The College of Creative Studies (CCS) is an advanced program deemed a Graduate School for undergraduates that emphasizes research and giving students flexibility in designing their curriculum. \n",
    "\n",
    "- My first two years at CCS were spent in chemistry, working in an organic polymer chemistry lab. Although, my advanced mixing/stirring skills don't help in my day to day life ... I learned to love/appreciate/ being the dumbest person in the room. \n",
    "\n",
    "- Since my school does not offer much in terms AI or NLP, I took it upon myself to learn all that I could from online classes such as Stanford's NLP, Stanford's ML, University of Toronto Neural Networks for ML and Stanford's Deep Learning for NLP. \n",
    "\n",
    "- Having seen how informative conferences were in chemistry, I decided to sponsor myself to a short trip during my dead week to NAACL in Denver. \n",
    "    - I was able to talk with so many professors and grad students whose names I had been following on papers\n",
    "    - I was able to talk with grad students about ... \n",
    "    - In just five days I felt I had learned more than I had in blah blah\n",
    "    - \n",
    "- family of academics ..?"
   ]
  },
  {
   "cell_type": "code",
   "execution_count": null,
   "metadata": {
    "collapsed": true
   },
   "outputs": [],
   "source": []
  },
  {
   "cell_type": "markdown",
   "metadata": {},
   "source": [
    "---\n",
    "#### Statement of Purpose Berkeley has a long-standing commitment to promoting access to graduate education for diverse populations. This commitment involves reviewing applicants' achievements within the context of their life experiences. \n",
    "    - You are invited to share aspects about your background that have not been reflected elsewhere in your application. \n",
    "    - This may include information regarding your achievements in spite of economic, social, or educational disadvantages.\n",
    "\n",
    "Briefly describe your academic background, research interests, and career objectives in the space provided below. Please limit your statement to 300-500 words and write about your motivation for graduate school. \n",
    "\n",
    "- Academic Background\n",
    "    - Conferences / CCS/ Teaching Class\n",
    "- Research Interests\n",
    "    - \n",
    "- Career Objectives\n",
    "    - get ph.d and b\n",
    "- motivation for grad school \n",
    "    - \n",
    "---\n",
    "\n",
    "- At UCSB I am part of the College of Creative Studies (CCS), an advanced program deemed a \"Graduate School for undergraduates\" that emphasizes research and giving students flexibility in personalizing their curriculum. \n",
    "\n",
    "- My first two years at CCS were spent in chemistry, working in an organic polymer chemistry lab. Although, my advanced mixing and stirring skills don't help in my day to day life it taught me to  \n",
    "    - to love/appreciate/ being the dumbest person in the room. \n",
    "\n",
    "- Switching majors, I felt far behind my classmates and so I began to play catch up. I started by completing all online classes I could find on NLP, ML or Deep Learning. \n",
    "\n",
    "- Doing Linguistic Research with Moscoso\n",
    "    - I explored different computer science research groups [like Graph Data Mining] but began doing independent studies with Professor Moscoso to cover my holes in Linguistics.\n",
    "    - This in turn tranformed into research on modeling child language acquisition using manifold topology and we are submitting a publication to Cog Sci this month.\n",
    "\n",
    "- OpenGov\n",
    "    - Over the summer I interned at OpenGov as part of their data science team.\n",
    "    - Designed and implemented an algorithm that builds an ontology from a flat structure by inferring from existing ontologies for the core nlp engine.\n",
    "\n",
    "- I proceeded to read research papers, and decided to sponsor myself to events and conferences like the Deep Learning Summit in San Francisco, NAACL in Denver and NIPS in Montreal. \n",
    "    - I got exposed to many different areas of research and academic communuties and engaged with the industry leaders, professors and grad students who are the forefront of knowledge.\n",
    "    -// In just five days I felt I had learned more than I had in blah blah by \n",
    "    \n",
    "- Doing Research w/ prof stevenson + Barend\n",
    "    - Just recently I have also begun a research project in psycholinguistics with University of Toronto Professor Suzanne Stevenson and her postoc Dr. Barend Beekhuizen.\n",
    "    - We wish to develop cognitive learning models that will simulate the way in which bilingual speakers of English and German learn spatial semantic categories. \n",
    "    - These models need to have cognitive psychological significance and maintain certain properties like interpretability and incremental learning.\n",
    "    \n",
    "- At ICML Prof. Percy Liang stated in his tutorial on Natural Language Understanding that we should aim to build models that learn like children. \n",
    "\n",
    "- I wish to pursue a Ph.D, taking all that I've learned from Child Language Acquisition to do just that. It is in research that I see myself making the biggest positve impact blah blah and something blah\n",
    "\n",
    "- Co-Teaching Class\n",
    "    - A final perk of CCS allows advanced undergraduates to lead a faculty-approved colloquium. Along with my best friend we designed an introductory course on Natural Language Processing, Machine Learning, and Deep Learning. \n",
    "    - We have over 20 students ranging from ccs computer science freshman to really advanced ccs math, bio and physics seniors enrolled... \n",
    "    - This experience ___[has blah] aspire to be a research professor teaching blabh blab [].\n",
    "    - The assignments we devised for class... to get people familiarized with approaching research... \n",
    "    \n",
    "- Thank you very much for your consideration and I hope that you find me to be a good fit for this program.\n",
    "\n",
    "---\n",
    "---\n",
    "At UCSB I am part of/enrolled in the College of Creative Studies (CCS), an advanced program deemed a \"Graduate School for Undergraduates\" that emphasizes research and giving students flexibility in personalizing their curriculum[s?]. My first two years at CCS were spent studying chemistry and working in an organic polymer chemistry lab. Although, my advanced mixing and stirring skills don't help in my day to day life, studying chemistry taught me the importance of being a self-learner.\n",
    "        \n",
    "When I switched majors, due to being in CCS, I was able to start taking upper division computer science courses my first quarter. I found online resources and open coursewares tremendously helpful in expediting and enriching **my learning/ education**\n",
    "\n",
    "An overview AI class [by Sebastian Thun] left me curious to learn more about the magic of how it worked ... I compeleted all online classes I could find on NLP(Natural Language Processing), ML(Machine Learning) or Deep Learning. I explored different computer science research groups [like Graph Data Mining] but began doing independent studies with Professor Moscoso to cover my holes in Linguistics. This in turn tranformed into research on modeling child language acquisition using causal modeling techniques with foundations in differential topology and we are submitting a publication to Cognitve Science this month on our results.\n",
    "\n",
    "Over the summer I interned at OpenGov as part of their data science team. I Designed and implemented an algorithm that builds an ontology from a flat structure by inferring from existing ontologies for the core nlp engine. I proceeded to read research papers, and decided to sponsor myself to attend events and conferences like the Deep Learning Summit in San Francisco, NAACL in Denver and NIPS in Montreal. I got exposed to many different areas of research, academic communuties and engaged with industry leaders, professors and grad students. I received a lot of great advice/feedback from Jacob Andreas and Maxim Rabinovich, two Berkeley Ph.D Students in Professor Dan Klein's NLP group.\n",
    "\n",
    "Just recently I have also begun a research project in psycholinguistics with University of Toronto Professor Suzanne Stevenson and her postoc Dr. Barend Beekhuizen. We wish to develop cognitive learning models that will simulate the way in which bilingual speakers of English and German learn spatial semantic categories. These models need to have cognitive psychological significance and maintain certain properties like interpretability and incremental learning.\n",
    "    \n",
    "At ICML, Prof. Percy Liang stated in his tutorial on Natural Language Understanding that we should aim to build models that learn like children. I find the approach taken by Professor Trevor Darrell's group of using Deep Learning across different modalities to be a step in the right direction.\n",
    "    \n",
    "I wish to pursue a Ph.D, taking all that I've learned from Child Language Acquisition to build interpretable deep architectures for natural language understanding and question answering systems. Following Matthew Zeiler's work on visualizing and understanding convolutional neural networks, I believe interpretability of these black box systems is not only pivotal/important to helping deep learning researchers debug//understand what they're building but also for the adoption of these models in various outside research areas.\n",
    "  \n",
    "A final perk of CCS allows advanced undergraduates to lead a faculty-approved colloquium. Along with my best friend we designed an introductory course on Natural Language Processing, Machine Learning, and Deep Learning. We have over 20 students ranging from ccs computer science freshman to really advanced ccs math, bio and physics seniors enrolled... \n",
    "    - **The experience of teaching has inspired me to one day be a research professor teaching the next generation**.\n",
    "\n",
    "Thank you very much for your consideration and I hope that you find me to be a good fit for this program.\n"
   ]
  },
  {
   "cell_type": "code",
   "execution_count": null,
   "metadata": {
    "collapsed": true
   },
   "outputs": [],
   "source": []
  },
  {
   "cell_type": "markdown",
   "metadata": {},
   "source": [
    "- Give a very brief synopsis of your current research interests\n",
    "- My curreent research with Professor Suzanne Stevenson and Dr. Barend Beekhuizen is on designing neural nets that model the learning of spatial semantic categories of bilingual speakers. These nets need to have cognitive psychology significance and maintain certain properties like interpretability and incremental learning."
   ]
  },
  {
   "cell_type": "markdown",
   "metadata": {
    "collapsed": true
   },
   "source": [
    "- advice \n",
    "- The best way to convince the admissions committee you're ready for a phd is to talk research. Tell us your ideas, what's your vision for your area, what big inevitable trends do you see in the future, and how do you capitalize on them? What are hard problems you've already tried to tackle, and how did you succeed/fail?"
   ]
  }
 ],
 "metadata": {
  "kernelspec": {
   "display_name": "Python 2",
   "language": "python",
   "name": "python2"
  },
  "language_info": {
   "codemirror_mode": {
    "name": "ipython",
    "version": 2
   },
   "file_extension": ".py",
   "mimetype": "text/x-python",
   "name": "python",
   "nbconvert_exporter": "python",
   "pygments_lexer": "ipython2",
   "version": "2.7.8"
  }
 },
 "nbformat": 4,
 "nbformat_minor": 0
}
