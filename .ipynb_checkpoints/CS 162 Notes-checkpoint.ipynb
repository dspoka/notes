{
 "cells": [
  {
   "cell_type": "markdown",
   "metadata": {},
   "source": [
    "### Logic\n",
    "[Logic Handout](http://www.cs.ucsb.edu/~benh/162_W16/handouts/handout1-FOL.pdf)\n",
    "\n",
    "\\begin{equation}\n",
    "Premise\\: If one is a man then one is mortal \\\\\n",
    "Premise\\: Socrates is a man \\\\\n",
    "Conclusion\\: Socrates is mortal \\\\\n",
    "Premise\\: If x > y then x+1 > y \\\\\n",
    "Premise\\: 1 > 0 \\\\\n",
    "Conclusion\\: 2 > 0 \\\\\n",
    "\\end{equation}\n",
    "\n",
    "\n",
    "Consistency\n",
    "Soundness\n",
    "Completeness\n",
    "\n",
    "---\n",
    "\n",
    "```scala\n",
    "package hello_world\n",
    "\n",
    "object hello_world {\n",
    "  println(\"Welcome to the Scala worksheet\")       //> Welcome to the Scala worksheet\n",
    "  val a = 2.2                                     //> a  : Double = 2.2\n",
    "  println(a)                                      //> 2.2\n",
    " \n",
    "}\n",
    "```"
   ]
  },
  {
   "cell_type": "code",
   "execution_count": null,
   "metadata": {
    "collapsed": true
   },
   "outputs": [],
   "source": []
  }
 ],
 "metadata": {
  "kernelspec": {
   "display_name": "Python 2",
   "language": "python",
   "name": "python2"
  },
  "language_info": {
   "codemirror_mode": {
    "name": "ipython",
    "version": 2
   },
   "file_extension": ".py",
   "mimetype": "text/x-python",
   "name": "python",
   "nbconvert_exporter": "python",
   "pygments_lexer": "ipython2",
   "version": "2.7.8"
  }
 },
 "nbformat": 4,
 "nbformat_minor": 0
}
