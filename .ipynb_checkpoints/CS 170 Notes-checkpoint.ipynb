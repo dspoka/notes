{
 "cells": [
  {
   "cell_type": "markdown",
   "metadata": {},
   "source": [
    "- x86 is not clea\n",
    "- Mips is clean\n",
    "- \"it is a simulator it must be broken\" is wrong mindset, treat it like hardware\n",
    "- Write Test Scripts\n",
    "- Go Through the notes on C and compilation\n",
    "- Get the book perhaps?\n",
    "- Cookbook for 2 3\n",
    "$$\\text{asfasdklfj sldkfj asdflj }$$\n",
    "- aklsdjfa"
   ]
  },
  {
   "cell_type": "code",
   "execution_count": null,
   "metadata": {
    "collapsed": true
   },
   "outputs": [],
   "source": []
  }
 ],
 "metadata": {
  "kernelspec": {
   "display_name": "Python 2",
   "language": "python",
   "name": "python2"
  },
  "language_info": {
   "codemirror_mode": {
    "name": "ipython",
    "version": 2
   },
   "file_extension": ".py",
   "mimetype": "text/x-python",
   "name": "python",
   "nbconvert_exporter": "python",
   "pygments_lexer": "ipython2",
   "version": "2.7.8"
  }
 },
 "nbformat": 4,
 "nbformat_minor": 0
}
