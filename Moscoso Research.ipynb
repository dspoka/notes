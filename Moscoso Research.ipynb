{
 "cells": [
  {
   "cell_type": "markdown",
   "metadata": {},
   "source": [
    "#### - ** Doing Hebrew**\n",
    "    - extend to hebrew\n",
    "        - issue of morphology\n",
    "        - parsing root, word pattern, affixes\n",
    "            - stem in english, eater, stem is eat.44\n",
    "    - replace the MLU for grammatical complexity\n",
    "- Next Friday meet at 1, redoing all of the analyses\n",
    "- need to check the stable the results, if you change one or two parameters. very careful\n",
    "- Draft Paper, Cog Sci Papers\n",
    "- in order to grammatical entropy estimation, and the adjustment() at the same time\n",
    "** \n",
    "\n",
    "#### [Langauge input and child syntax](http://psychology.uchicago.edu/people/faculty/levine/HuttenlocherVasilyeva2002.pdf)\n",
    "- Basically studying input to child development is hard and lots of differing results\n",
    "- goal of this study is to see later effects and somehting else\n",
    "    - Although the sample was obtained\n",
    "    in the 1970s, it meets important requirements for our study. The children\n",
    "    were 4 years of age, by which time complex sentences are used to some\n",
    "    extent by all children. The sample included families from different ethnic and\n",
    "    socioeconomic groups so that there may be considerable variability in the\n",
    "    input. Finally, the child\u0001s speech was sampled both at home and at school,\n",
    "    making it possible to determine if the use of complex sentences by a child is\n",
    "    relatively constant across situations.\n",
    "    For children, our measure is the proportion of multiclause sentences in\n",
    "    their speech. This is a measure of their syntactic competence; it indicates\n",
    "    the extent to which children express relations captured by complex syntax,\n",
    "    independent of the amount of speech they produce. For parents, we use\n",
    "    two measures—the overall number of multiclause sentences (frequency)\n",
    "    and the proportion of such sentences.\n",
    "- Participants included 34 children ages 54–60months\n",
    "and one of their parents. Hall et al. divided families into four groups. For\n",
    "the families whose data are examined here, 15 were Caucasian and 19 were\n",
    "African American, approximately equally divided between lower and middle\n",
    "SES. SES was determined by income level and educational indices scales\n",
    "- Recording: prior to school in the morning, arriving\n",
    "J. Huttenlocher et al. / Cognitive Psychology 45 (2002) 337–374 345\n",
    "at school, snack time at school, free play at school, directed activity at\n",
    "school, arriving home from school, before dinner, at dinner time, before\n",
    "bed, and in transition (on the way to school). Each situation was recorded\n",
    "for approximately 15 min on 2 consecutive days for a total of about 5 h of\n",
    "audiotape per child.\n",
    "\n",
    "\n",
    "#### [Adaptation in Child Directed Speech: Evidence from Corpora](https://staff.fnwi.uva.nl/r.fernandezrovira/papers/2011/CDS-semdial2011.pdf)\n",
    "\n",
    "- A large number of studies have shown that child-directed speech (CDS) exhibits distinct features at all levels of linguistic processing: it is slower in rate, wider in pitch range, and contains fewer dysfluencies; it is syntactically simpler and less ungrammatical, with shorter sentences and scarce complex structures such as subordinate clauses or sentential complements; and it makes use of a more limited vocabulary, which is typically constrained to the child’s interests and focus of attention\n",
    "\n",
    "- fine tuning is the dynamic changing of the CDS\n",
    "\n",
    "- using four simple measures that operate at different linguistic levels\n",
    "    - phonology, morphology, lexicon, and syntax\n",
    "    - Mean Utterance Length (UL): length of utterance measured in words, averaged over a dialogue;1 this is a rough indicator of syntactic complexity.\n",
    "    - Mean Word Length (WL): length of words measured in characters, averaged over a dialogue; a rough indicator of morphological complexity.\n",
    "    - Mean Number of Word Types (WT): the number of distinct word types in a dialogue divided by the number of utterances by the relevant speaker in that dialogue; a rough indicator of lexical complexity.\n",
    "    - Mean Number of Consonant Triples (CT): the number of consonant triples (in the surface orthographic form) per utterance per dialogue; a rough indicator of phonological complexity.\n",
    "    - Normalize all of it, and sum them for fifth overall complexity\n",
    "\n",
    "##### Data\n",
    "- Brown corpus (Brown, 1973), which includes a total of 214 transcribed longitudinal conversations (each corresponding to a corpus file) with three children, Adam, Eve, and Sarah\n",
    "    - The Adam corpus contains 55 files with transcripts of conversations recorded over a period of 3 years (age 2;3–5;2); the Sarah corpus covers also approximately 3 years (age 2;3–5;1) and includes more dialogues (139 files) with fewer utterances overall; the Eve corpus is smaller, with only 20 files covering 9 months at an earlier age (age 1;6–2;3).\n",
    "\n",
    "##### Analysis\n",
    "- Pearson product-moment correlation coefficient (Pearson’s r). Hence, for a measure X and a pair of speakers < j, k > we calculate: (z normalized) \n",
    "- \\begin{equation}\n",
    "r(X,j,k) = \\frac{1}{n-1}\\sum_{i=1}^{n}z_X(i,j)*z_X(i,k)\n",
    "\\end{equation}\n",
    "- Shows significant results for \n",
    "- Partial correlations.\n",
    "    - This method removes the common variance shared by the child’s values, the mother’s values and child age and takes the remaining common variance of the child’s and the maternal values as the basis for the correlation coefficient. Hence, the r value of a correlation between a pair of speakers hj, ki after controlling for age (A) corresponds to:\n",
    "- \\begin{equation}\n",
    "r(j,k,A) = \\frac{r_jk-r_{xA}r_{yA}}{\\sqrt{(1-r_{jA}^2)(1-r_{kA}^2)}}\n",
    "\\end{equation}\n",
    "\n",
    "<img  src=\"Screen Shot 2016-01-11 at 11.03.02 PM.png\"/>\n",
    "--- \n",
    "- CDS is simple speech tailored to children = motherese\n",
    "- disagreement among research: extent to which CDS is necessary for aqusition\n",
    "    - not required, very required, unavoidable\n",
    "- CDF is dynamic - finetuning: mother adapts to child\n",
    "- unknown whether adjusted to age or linguistic behavior\n",
    "- four measures: syntax, morphology, lexicon, phonology \n",
    "    - MLU, MWL (word length), MWT (word types), MCT (consonant triples)\n",
    "    - general complexity GC: sum of four measures after z-score-transform (normalize)\n",
    "- weak finetuning: mother globally adapts based on her knowledge of childs abilities\n",
    "- strong: mother reacts to specific and local cues\n",
    "\n",
    "- study using brown corpus found there is correlation between the measures of the child and mother\n",
    "- steady icnrease in complexity in these measures\n",
    "- both complexities could be attributed to age\n",
    "- weak interpretation does not explain findings , strong makes more sense\n",
    "    - child and mother complexity are correlated over and above effects of age\n",
    "    - partial correlations: correlating two variables while holding age constant\n",
    "    - still find significant correlations, indicating baseline findings cannot entirely be accounted for by age\n",
    "- repetitions may lead to correlation\n",
    "    - compute repetition score, to quantify likelihood that utterance is a repetition\n",
    "    - compute threshold to drop utterances which are repetitions based on minimizing FP and FN\n",
    "    - after dropping, still see significant correlation, indicating repetition alone cannot account for correlation\n",
    "    - after controlling for both repetition and age, results are unclear\n",
    "    \n",
    "---"
   ]
  },
  {
   "cell_type": "markdown",
   "metadata": {},
   "source": [
    "- change taus to integers\n",
    "- possibly use median instead of average\n",
    "- do 100 interations for p values x > .05\n",
    "- add pvalues to title of graphs\n",
    "- metropolis analysis\n",
    "    - markov chain monte carlo simulation\n",
    "- timer\n",
    "- 1000 to a 3rd decimial place, may make \n",
    "- remove the hchild raw\n",
    "- child mother graph w/ lexicon/syntax -> ... verbosity <- \n",
    "- \n",
    "- remove xxx\n",
    "- split -> contractions => split contractions only for the lemmatized version => don't do not, what's => what be =>\n",
    "- Berman Long\n",
    "- just keep word root, \n",
    "- international phonetic language\n",
    "- --\n",
    "- phonology\n",
    "- mle qs from slides and go over the good turing"
   ]
  },
  {
   "cell_type": "markdown",
   "metadata": {},
   "source": [
    "--- \n",
    "-Hberew\n",
    "- Make pydot graph where the nodes are the causing things\n",
    "- \n",
    "- make adjusted pvalues in the graphs and use english for syntactic inflectional, \n",
    "- put the greek letter rho, into \n",
    "- L -> library length\n",
    "- absense of evidence, is not evidence of absense\n",
    "- potentially drop the child\n",
    "- hapax legomena\n",
    "- [Good Turing](http://www.grsampson.net/AGtf1.html\n",
    "\n",
    "---\n",
    "so do a little regression model and, with a non linear smoother\n",
    "forget about children and make a graph of just dots, mlu vs mlu \n",
    "num words, lexical diversity, length of sentences\n",
    "3 measures for the child, 3 measure for the mother, 24, 24 for size\n",
    "raw2 is only the columns that we want\n",
    "- make the lines thicker, \n"
   ]
  },
  {
   "cell_type": "code",
   "execution_count": 53,
   "metadata": {
    "collapsed": false
   },
   "outputs": [
    {
     "data": {
      "text/plain": [
       "True"
      ]
     },
     "execution_count": 53,
     "metadata": {},
     "output_type": "execute_result"
    }
   ],
   "source": [
    "import pydot\n",
    "example_graph = \"moscoso_results.png\"\n",
    "graph1 = pydot.Dot(graph_type='digraph')\n",
    "graph2 = pydot.Dot(graph_type='digraph')\n",
    "graph3 = pydot.Dot(graph_type='digraph')\n",
    "\n",
    "node_a = pydot.Node(\"Child Lexical\", style=\"filled\", fillcolor=\"#65C5F2\")\n",
    "node_b = pydot.Node(\"Mother Lexical\", style=\"filled\", fillcolor=\"#F7D92E\")\n",
    "\n",
    "node_c = pydot.Node(\"Child # Words\", style=\"filled\", fillcolor=\"#65C5F2\")\n",
    "node_d = pydot.Node(\"Mother # Words\", style=\"filled\", fillcolor=\"#F7D92E\")\n",
    "\n",
    "node_e = pydot.Node(\"Child Syntactic Diversity\", style=\"filled\", fillcolor=\"#65C5F2\")\n",
    "node_f = pydot.Node(\"Mother Syntactic Diversity\", style=\"filled\", fillcolor=\"#F7D92E\")\n",
    "\n",
    "graph1.add_node(node_a)\n",
    "graph1.add_node(node_b)\n",
    "\n",
    "graph2.add_node(node_c)\n",
    "graph2.add_node(node_d)\n",
    "\n",
    "graph3.add_node(node_e)\n",
    "graph3.add_node(node_f)\n",
    "\n",
    "graph1.add_edge(pydot.Edge(node_b, node_a, label=\"Significant\"))\n",
    "\n",
    "graph2.add_edge(pydot.Edge(node_c, node_d, label=\"Weak\"))\n",
    "graph2.add_edge(pydot.Edge(node_d, node_c, label=\"Strong\", penwidth=\"2\"))\n",
    "\n",
    "graph3.add_edge(pydot.Edge(node_e, node_f, label=\"Significant\"))\n",
    "graph3.add_edge(pydot.Edge(node_f, node_e, label=\"Significant\"))\n",
    "\n",
    "# graph.add_edge(pydot.Edge(node_b, node_d, label=\"5x\", labelfontcolor=\"#009933\", fontsize=\"10.0\", color=\"blue\"))\n",
    "graph1.write_png(\"moscoso_results1.png\")\n",
    "graph2.write_png(\"moscoso_results2.png\")\n",
    "graph3.write_png(\"moscoso_results3.png\")\n",
    "\n"
   ]
  },
  {
   "cell_type": "markdown",
   "metadata": {},
   "source": [
    "mother lexical diversity drives child lexical diversity\n",
    "\n",
    "number of mother words drives number of child words (strongly)\n",
    "\n",
    "number of child words drives number of mother words (weakly)\n",
    "\n",
    "child and mother syntactic diversity drive each other\n",
    "\n",
    "![Image of Yaktocat](./moscoso_results.png)\n",
    "\n"
   ]
  },
  {
   "cell_type": "code",
   "execution_count": 47,
   "metadata": {
    "collapsed": false
   },
   "outputs": [
    {
     "ename": "IndentationError",
     "evalue": "unexpected indent (<timeit-src>, line 7)",
     "output_type": "error",
     "traceback": [
      "\u001b[0;36m  File \u001b[0;32m\"<timeit-src>\"\u001b[0;36m, line \u001b[0;32m7\u001b[0m\n\u001b[0;31m    f(x)\u001b[0m\n\u001b[0m    ^\u001b[0m\n\u001b[0;31mIndentationError\u001b[0m\u001b[0;31m:\u001b[0m unexpected indent\n"
     ]
    }
   ],
   "source": [
    "def f(x):\n",
    "    return x * x \n",
    "\n",
    "import timeit\n",
    "x = 50\n",
    "print(timeit.timeit(\"x = 50  \\n f(x)\", \"from __main__ import f\", number=1))"
   ]
  },
  {
   "cell_type": "code",
   "execution_count": null,
   "metadata": {
    "collapsed": true
   },
   "outputs": [],
   "source": []
  }
 ],
 "metadata": {
  "kernelspec": {
   "display_name": "Python 2",
   "language": "python",
   "name": "python2"
  },
  "language_info": {
   "codemirror_mode": {
    "name": "ipython",
    "version": 2
   },
   "file_extension": ".py",
   "mimetype": "text/x-python",
   "name": "python",
   "nbconvert_exporter": "python",
   "pygments_lexer": "ipython2",
   "version": "2.7.8"
  }
 },
 "nbformat": 4,
 "nbformat_minor": 0
}
