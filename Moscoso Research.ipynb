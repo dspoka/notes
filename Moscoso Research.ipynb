{
 "cells": [
  {
   "cell_type": "markdown",
   "metadata": {},
   "source": [
    "#### - ** Doing Hebrew**\n",
    "    - extend to hebrew\n",
    "        - issue of morphology\n",
    "        - parsing root, word pattern, affixes\n",
    "            - stem in english, eater, stem is eat.44\n",
    "    - replace the MLU for grammatical complexity\n",
    "- Next Friday meet at 1, redoing all of the analyses\n",
    "- need to check the stable the results, if you change one or two parameters. very careful\n",
    "- Draft Paper, Cog Sci Papers\n",
    "- in order to grammatical entropy estimation, and the adjustment() at the same time\n",
    "** "
   ]
  },
  {
   "cell_type": "code",
   "execution_count": null,
   "metadata": {
    "collapsed": true
   },
   "outputs": [],
   "source": [
    "4"
   ]
  }
 ],
 "metadata": {
  "kernelspec": {
   "display_name": "Python 2",
   "language": "python",
   "name": "python2"
  },
  "language_info": {
   "codemirror_mode": {
    "name": "ipython",
    "version": 2
   },
   "file_extension": ".py",
   "mimetype": "text/x-python",
   "name": "python",
   "nbconvert_exporter": "python",
   "pygments_lexer": "ipython2",
   "version": "2.7.8"
  }
 },
 "nbformat": 4,
 "nbformat_minor": 0
}
