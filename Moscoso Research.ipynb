{
 "cells": [
  {
   "cell_type": "markdown",
   "metadata": {},
   "source": [
    "#### - ** Doing Hebrew**\n",
    "    - extend to hebrew\n",
    "        - issue of morphology\n",
    "        - parsing root, word pattern, affixes\n",
    "            - stem in english, eater, stem is eat.44\n",
    "    - replace the MLU for grammatical complexity\n",
    "- Next Friday meet at 1, redoing all of the analyses\n",
    "- need to check the stable the results, if you change one or two parameters. very careful\n",
    "- Draft Paper, Cog Sci Papers\n",
    "- in order to grammatical entropy estimation, and the adjustment() at the same time\n",
    "** \n",
    "\n",
    "#### [Langauge input and child syntax](http://psychology.uchicago.edu/people/faculty/levine/HuttenlocherVasilyeva2002.pdf)\n",
    "- Basically studying input to child development is hard and lots of differing results\n",
    "- goal of this study is to see later effects and somehting else\n",
    "    - Although the sample was obtained\n",
    "    in the 1970s, it meets important requirements for our study. The children\n",
    "    were 4 years of age, by which time complex sentences are used to some\n",
    "    extent by all children. The sample included families from different ethnic and\n",
    "    socioeconomic groups so that there may be considerable variability in the\n",
    "    input. Finally, the child\u0001s speech was sampled both at home and at school,\n",
    "    making it possible to determine if the use of complex sentences by a child is\n",
    "    relatively constant across situations.\n",
    "    For children, our measure is the proportion of multiclause sentences in\n",
    "    their speech. This is a measure of their syntactic competence; it indicates\n",
    "    the extent to which children express relations captured by complex syntax,\n",
    "    independent of the amount of speech they produce. For parents, we use\n",
    "    two measures—the overall number of multiclause sentences (frequency)\n",
    "    and the proportion of such sentences.\n",
    "- Participants included 34 children ages 54–60months\n",
    "and one of their parents. Hall et al. divided families into four groups. For\n",
    "the families whose data are examined here, 15 were Caucasian and 19 were\n",
    "African American, approximately equally divided between lower and middle\n",
    "SES. SES was determined by income level and educational indices scales\n",
    "- Recording: prior to school in the morning, arriving\n",
    "J. Huttenlocher et al. / Cognitive Psychology 45 (2002) 337–374 345\n",
    "at school, snack time at school, free play at school, directed activity at\n",
    "school, arriving home from school, before dinner, at dinner time, before\n",
    "bed, and in transition (on the way to school). Each situation was recorded\n",
    "for approximately 15 min on 2 consecutive days for a total of about 5 h of\n",
    "audiotape per child.\n",
    "\n",
    "\n",
    "#### [Adaptation in Child Directed Speech: Evidence from Corpora](https://staff.fnwi.uva.nl/r.fernandezrovira/papers/2011/CDS-semdial2011.pdf)\n"
   ]
  },
  {
   "cell_type": "code",
   "execution_count": null,
   "metadata": {
    "collapsed": true
   },
   "outputs": [],
   "source": []
  }
 ],
 "metadata": {
  "kernelspec": {
   "display_name": "Python 2",
   "language": "python",
   "name": "python2"
  },
  "language_info": {
   "codemirror_mode": {
    "name": "ipython",
    "version": 2
   },
   "file_extension": ".py",
   "mimetype": "text/x-python",
   "name": "python",
   "nbconvert_exporter": "python",
   "pygments_lexer": "ipython2",
   "version": "2.7.8"
  }
 },
 "nbformat": 4,
 "nbformat_minor": 0
}
